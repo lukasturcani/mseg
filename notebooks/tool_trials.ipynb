{
 "cells": [
  {
   "cell_type": "code",
   "execution_count": 1,
   "id": "f07cb15b-49fd-47c8-b0d1-cce5b8a10136",
   "metadata": {},
   "outputs": [],
   "source": [
    "import mseg\n",
    "from pathlib import Path\n",
    "import polars as pl"
   ]
  },
  {
   "cell_type": "code",
   "execution_count": 10,
   "id": "1559f72d-4bfd-4824-a38f-5cfcc95144e6",
   "metadata": {},
   "outputs": [],
   "source": [
    "\n",
    "data = mseg.read_data(\n",
    "    pl.read_csv(\n",
    "    \"/Users/lukas/data/marian_segmentation/rri_spectral_hf_power_r349.txt\",\n",
    "    has_header=False,\n",
    ")"
   ]
  },
  {
   "cell_type": "code",
   "execution_count": 11,
   "id": "d72b448f-421e-49bb-9acd-777a7634cf6f",
   "metadata": {},
   "outputs": [
    {
     "data": {
      "text/html": [
       "<div><style>\n",
       ".dataframe > thead > tr,\n",
       ".dataframe > tbody > tr {\n",
       "  text-align: right;\n",
       "  white-space: pre-wrap;\n",
       "}\n",
       "</style>\n",
       "<small>shape: (1_794, 1)</small><table border=\"1\" class=\"dataframe\"><thead><tr><th>column_1</th></tr><tr><td>str</td></tr></thead><tbody><tr><td>&quot;3.2&nbsp;&nbsp;9.5&quot;</td></tr><tr><td>&quot;4.2&nbsp;&nbsp;45.2&quot;</td></tr><tr><td>&quot;5.2&nbsp;&nbsp;32.9&quot;</td></tr><tr><td>&quot;6.2&nbsp;&nbsp;22.4&quot;</td></tr><tr><td>&quot;7.2&nbsp;&nbsp;11.0&quot;</td></tr><tr><td>&hellip;</td></tr><tr><td>&quot;1792.2&nbsp;&nbsp;3.5&quot;</td></tr><tr><td>&quot;1793.2&nbsp;&nbsp;3.8&quot;</td></tr><tr><td>&quot;1794.2&nbsp;&nbsp;3.6&quot;</td></tr><tr><td>&quot;1795.2&nbsp;&nbsp;2.8&quot;</td></tr><tr><td>&quot;1796.2&nbsp;&nbsp;1.2&quot;</td></tr></tbody></table></div>"
      ],
      "text/plain": [
       "shape: (1_794, 1)\n",
       "┌─────────────┐\n",
       "│ column_1    │\n",
       "│ ---         │\n",
       "│ str         │\n",
       "╞═════════════╡\n",
       "│ 3.2  9.5    │\n",
       "│ 4.2  45.2   │\n",
       "│ 5.2  32.9   │\n",
       "│ 6.2  22.4   │\n",
       "│ 7.2  11.0   │\n",
       "│ …           │\n",
       "│ 1792.2  3.5 │\n",
       "│ 1793.2  3.8 │\n",
       "│ 1794.2  3.6 │\n",
       "│ 1795.2  2.8 │\n",
       "│ 1796.2  1.2 │\n",
       "└─────────────┘"
      ]
     },
     "execution_count": 11,
     "metadata": {},
     "output_type": "execute_result"
    }
   ],
   "source": [
    "data"
   ]
  },
  {
   "cell_type": "code",
   "execution_count": null,
   "id": "c59f270d-af94-4e16-a8da-b9520eca8027",
   "metadata": {},
   "outputs": [],
   "source": []
  }
 ],
 "metadata": {
  "kernelspec": {
   "display_name": "Python 3 (ipykernel)",
   "language": "python",
   "name": "python3"
  },
  "language_info": {
   "codemirror_mode": {
    "name": "ipython",
    "version": 3
   },
   "file_extension": ".py",
   "mimetype": "text/x-python",
   "name": "python",
   "nbconvert_exporter": "python",
   "pygments_lexer": "ipython3",
   "version": "3.13.1"
  }
 },
 "nbformat": 4,
 "nbformat_minor": 5
}
